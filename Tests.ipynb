{
 "cells": [
  {
   "cell_type": "code",
   "execution_count": 102,
   "id": "98c8c195-96aa-4efe-967a-52ef6052c25e",
   "metadata": {},
   "outputs": [],
   "source": [
    "import torch\n",
    "import torch.nn.functional as F\n",
    "import matplotlib.pyplot as plt\n",
    "import time\n",
    "import re\n",
    "from Tokenizer import tokenize_text, separate_tokens, split_into_sentences\n",
    "%matplotlib inline"
   ]
  },
  {
   "cell_type": "code",
   "execution_count": 103,
   "id": "51ee1256-0e96-4110-8ae6-1981fd1a0fd7",
   "metadata": {},
   "outputs": [],
   "source": [
    "def load_model(filename, seed=None):\n",
    "    # Load the model\n",
    "    checkpoint = torch.load(filename)\n",
    "    C = checkpoint['C']\n",
    "    W1 = checkpoint['W1']\n",
    "    b1 = checkpoint['b1']\n",
    "    W2 = checkpoint['W2']\n",
    "    b2 = checkpoint['b2']\n",
    "    itos = checkpoint['itos']\n",
    "    context_size = checkpoint['context_size']\n",
    "    vocab_size = checkpoint['vocab_size']\n",
    "    \n",
    "    device = C.device\n",
    "    embedding_dim = C.shape[1]\n",
    "    hidden_size = W2.shape[0]\n",
    "    \n",
    "    # Print dimensions for debugging\n",
    "    print(f\"Model dimensions:\")\n",
    "    print(f\"C shape: {C.shape} (vocab_size, embedding_dim)\")\n",
    "    print(f\"W1 shape: {W1.shape}\")\n",
    "    print(f\"W2 shape: {W2.shape}\")\n",
    "    print(f\"Block size: {context_size}\")\n",
    "    print(f\"Embedding dim: {embedding_dim}\")\n",
    "    print(f\"Hidden size: {hidden_size}\")\n",
    "    \n",
    "    # Reshape W1 to handle concatenated embeddings\n",
    "    W1 = W1.expand(context_size * embedding_dim, hidden_size)\n",
    "    \n",
    "    print(f\"W1 shape after reshape: {W1.shape}\")\n",
    "    \n",
    "    # Print model dimensions for debugging\n",
    "    print(f\"Shapes before processing:\")\n",
    "    print(f\"C: {C.shape}\")\n",
    "    print(f\"W1: {W1.shape}\")\n",
    "    print(f\"W2: {W2.shape}\")\n",
    "    print(f\"Block size: {context_size}\")\n",
    "    \n",
    "    device = C.device\n",
    "    embedding_dim = C.shape[1]\n",
    "    hidden_size = W2.shape[0]\n",
    "    \n",
    "    # Instead of reshaping W1, make sure it's the correct size\n",
    "    expected_w1_shape = (context_size * embedding_dim, hidden_size)\n",
    "    if W1.shape != expected_w1_shape:\n",
    "        raise ValueError(f\"W1 shape {W1.shape} doesn't match expected shape {expected_w1_shape}\")\n",
    "    \n",
    "    # Add this after loading the weights\n",
    "    W1 = W1.reshape(context_size * C.shape[1], -1)  # Reshape to [context_size * emb_dim, hidden_size]\n",
    "    \n",
    "    device = C.device\n",
    "    similarity_dimensions = C.shape[1]\n",
    "    \n",
    "    print(f\"Model loaded from {filename}\")\n",
    "    print(f\"Vocabulary size: {vocab_size}\")\n",
    "    print(f\"Using device: {device}\")\n",
    "    \n",
    "    # Return the loaded model components in case they're needed\n",
    "    return {\n",
    "        'C': C, \n",
    "        'W1': W1, \n",
    "        'b1': b1, \n",
    "        'W2': W2, \n",
    "        'b2': b2, \n",
    "        'itos': itos,\n",
    "        'context_size': context_size,\n",
    "        'vocab_size': vocab_size\n",
    "    }"
   ]
  },
  {
   "cell_type": "code",
   "execution_count": 106,
   "id": "1e50b304-48ab-45f3-be4b-04a29f83a325",
   "metadata": {},
   "outputs": [
    {
     "name": "stdout",
     "output_type": "stream",
     "text": [
      "Model dimensions:\n",
      "C shape: torch.Size([46, 1]) (vocab_size, embedding_dim)\n",
      "W1 shape: torch.Size([1, 4])\n",
      "W2 shape: torch.Size([4, 46])\n",
      "Block size: 1\n",
      "Embedding dim: 1\n",
      "Hidden size: 4\n",
      "W1 shape after reshape: torch.Size([1, 4])\n",
      "Shapes before processing:\n",
      "C: torch.Size([46, 1])\n",
      "W1: torch.Size([1, 4])\n",
      "W2: torch.Size([4, 46])\n",
      "Block size: 1\n",
      "Model loaded from MLP1.w\n",
      "Vocabulary size: 46\n",
      "Using device: cpu\n"
     ]
    },
    {
     "name": "stderr",
     "output_type": "stream",
     "text": [
      "C:\\Users\\Tobias Bersia\\AppData\\Local\\Temp\\ipykernel_9560\\2833721932.py:3: FutureWarning: You are using `torch.load` with `weights_only=False` (the current default value), which uses the default pickle module implicitly. It is possible to construct malicious pickle data which will execute arbitrary code during unpickling (See https://github.com/pytorch/pytorch/blob/main/SECURITY.md#untrusted-models for more details). In a future release, the default value for `weights_only` will be flipped to `True`. This limits the functions that could be executed during unpickling. Arbitrary objects will no longer be allowed to be loaded via this mode unless they are explicitly allowlisted by the user via `torch.serialization.add_safe_globals`. We recommend you start setting `weights_only=True` for any use case where you don't have full control of the loaded file. Please open an issue on GitHub for any issues related to this experimental feature.\n",
      "  checkpoint = torch.load(filename)\n"
     ]
    }
   ],
   "source": [
    "model_components = load_model(\"MLP1.w\", 42)"
   ]
  },
  {
   "cell_type": "code",
   "execution_count": 112,
   "id": "4a0b2da0-ac67-411f-9dcc-0976fee5ce11",
   "metadata": {},
   "outputs": [
    {
     "data": {
      "text/plain": [
       "tensor([[ 2.3489,  2.3592, -2.2207, -2.9705]], grad_fn=<ViewBackward0>)"
      ]
     },
     "execution_count": 112,
     "metadata": {},
     "output_type": "execute_result"
    }
   ],
   "source": [
    "model_components['W1']"
   ]
  },
  {
   "cell_type": "code",
   "execution_count": 115,
   "id": "f95d40b5-8f2f-4131-8eed-114e8de80415",
   "metadata": {},
   "outputs": [],
   "source": [
    "nW1 = (model_components['W1'] ** 2) ** 0.5"
   ]
  },
  {
   "cell_type": "code",
   "execution_count": 123,
   "id": "b28e3051-d3ef-464f-84d0-009398dafc64",
   "metadata": {},
   "outputs": [],
   "source": [
    "nb1 = model_components['b1'] * torch.tensor([1.0, 1.0, -1.0, -1.0])"
   ]
  },
  {
   "cell_type": "code",
   "execution_count": 124,
   "id": "6a680bab-5356-45e0-8bf9-1e759943b981",
   "metadata": {},
   "outputs": [
    {
     "data": {
      "text/plain": [
       "tensor([-6.2453,  6.8988,  1.7038, -2.3486], grad_fn=<MulBackward0>)"
      ]
     },
     "execution_count": 124,
     "metadata": {},
     "output_type": "execute_result"
    }
   ],
   "source": [
    "nb1"
   ]
  },
  {
   "cell_type": "code",
   "execution_count": 126,
   "id": "53dd6f0e-06f7-4141-b826-f58c1cfba13e",
   "metadata": {},
   "outputs": [
    {
     "data": {
      "text/plain": [
       "tensor([-3.9019, -2.9001,  6.1349, -0.3616, -2.9154, -0.3167,  3.9216,  1.2724,\n",
       "        -4.1372, -2.9381, -3.3050, -2.9459, -2.9054, -2.6628, -3.6120, -2.9477,\n",
       "        -3.1679, -2.7918, -2.6638, -3.0004, -2.7946,  4.4621,  1.7770, -0.4613,\n",
       "         2.2871,  5.9610, -0.9330,  0.2502, -1.0164,  4.0143, -2.6587,  0.5671,\n",
       "         4.4169, -0.9565,  1.3396,  3.3308,  3.2504,  4.4393,  0.2887,  3.0087,\n",
       "         4.3911, -1.0450, -0.8668,  4.3748, -1.6799,  0.3987],\n",
       "       requires_grad=True)"
      ]
     },
     "execution_count": 126,
     "metadata": {},
     "output_type": "execute_result"
    }
   ],
   "source": [
    "model_components['b2']"
   ]
  },
  {
   "cell_type": "code",
   "execution_count": null,
   "id": "495aa262-21ce-4b85-9773-432c4c3035ad",
   "metadata": {},
   "outputs": [],
   "source": []
  }
 ],
 "metadata": {
  "kernelspec": {
   "display_name": "Python 3 (ipykernel)",
   "language": "python",
   "name": "python3"
  },
  "language_info": {
   "codemirror_mode": {
    "name": "ipython",
    "version": 3
   },
   "file_extension": ".py",
   "mimetype": "text/x-python",
   "name": "python",
   "nbconvert_exporter": "python",
   "pygments_lexer": "ipython3",
   "version": "3.12.0"
  }
 },
 "nbformat": 4,
 "nbformat_minor": 5
}
